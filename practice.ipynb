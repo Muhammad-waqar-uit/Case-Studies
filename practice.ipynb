{
 "cells": [
  {
   "cell_type": "code",
   "execution_count": 16,
   "metadata": {},
   "outputs": [
    {
     "name": "stdout",
     "output_type": "stream",
     "text": [
      "Enter your full roll no : 19b-116-se\n",
      "Your department is Software Engineering and You are from batch 19B \n"
     ]
    }
   ],
   "source": [
    "#program1\n",
    "rollno=input(\"Enter your full roll no : \")\n",
    "Rollno=rollno.upper()\n",
    "if Rollno[8:] ==\"SE\" and Rollno[0:3]==\"19B\":\n",
    "    print(\"Your department is Software Engineering and You are from batch 19B \")"
   ]
  },
  {
   "cell_type": "code",
   "execution_count": 2,
   "metadata": {},
   "outputs": [
    {
     "name": "stdout",
     "output_type": "stream",
     "text": [
      "Enter your First subject marks out of 100: 40\n",
      "Enter your Second subject marks out of 100: 40\n",
      "Enter your Third subject marks out of 100: 40\n",
      "Student 1 Marks out of 300 :  120\n",
      "Enter your First subject marks out of 100: 50\n",
      "Enter your Second subject marks out of 100: 50\n",
      "Enter your Third subject marks out of 100: 50\n",
      "Student 2 marks out of 300 :  150\n",
      "Student2 has Highest Marks\n"
     ]
    }
   ],
   "source": [
    "#program2\n",
    "Subject1=int(input(\"Enter your First subject marks out of 100: \"))\n",
    "Subject2=int(input(\"Enter your Second subject marks out of 100: \"))\n",
    "Subject3=int(input(\"Enter your Third subject marks out of 100: \"))\n",
    "student1=(Subject1+Subject2+Subject3)\n",
    "print(\"Student 1 Marks out of 300 : \",student1)\n",
    "subject1=int(input(\"Enter your First subject marks out of 100: \"))\n",
    "subject2=int(input(\"Enter your Second subject marks out of 100: \"))\n",
    "subject3=int(input(\"Enter your Third subject marks out of 100: \"))\n",
    "student2=(subject1+subject2+subject3)\n",
    "print(\"Student 2 marks out of 300 : \",student2)\n",
    "if student1 >student2:\n",
    "    print(\"Student1 has Highest Marks.\")\n",
    "else:\n",
    "    print(\"Student2 has Highest Marks\")"
   ]
  },
  {
   "cell_type": "code",
   "execution_count": 3,
   "metadata": {},
   "outputs": [
    {
     "name": "stdout",
     "output_type": "stream",
     "text": [
      "Enter any Character: a\n",
      "The character is vowel.\n"
     ]
    }
   ],
   "source": [
    "#program3\n",
    "Vow=input(\"Enter any Character: \")\n",
    "if Vow in \"AEIOUaeiou\":\n",
    "    print(\"The character is vowel.\")\n",
    "else:\n",
    "    print(\"The character is not vowel.\")"
   ]
  },
  {
   "cell_type": "code",
   "execution_count": 4,
   "metadata": {},
   "outputs": [
    {
     "name": "stdout",
     "output_type": "stream",
     "text": [
      "Even numbers in the list:  3\n"
     ]
    }
   ],
   "source": [
    "#program4\n",
    "list1 = [10, 21, 4, 45, 66, 93, 1] \n",
    "  \n",
    "even_count =0\n",
    "  \n",
    "# iterating each number in list \n",
    "for num in list1: \n",
    "    # checking condition \n",
    "    if num % 2 == 0: \n",
    "        even_count += 1\n",
    "          \n",
    "print(\"Even numbers in the list: \", even_count) "
   ]
  },
  {
   "cell_type": "code",
   "execution_count": 9,
   "metadata": {},
   "outputs": [
    {
     "name": "stdout",
     "output_type": "stream",
     "text": [
      "Sum of Number in a List : 240\n",
      "Welcome\n"
     ]
    }
   ],
   "source": [
    "#program5\n",
    "list1 = [10, 21, 4, 45, 66, 93, 1]\n",
    "x=sum(list1)\n",
    "print(\"Sum of Number in a List :\",x)\n",
    "if x>100:\n",
    "    print(\"Welcome\")"
   ]
  },
  {
   "cell_type": "code",
   "execution_count": 21,
   "metadata": {},
   "outputs": [
    {
     "name": "stdout",
     "output_type": "stream",
     "text": [
      "30\n",
      "60\n",
      "90\n",
      "40\n",
      "80\n",
      "50\n",
      "20\n",
      "70\n",
      "10\n"
     ]
    }
   ],
   "source": [
    "#program 06\n",
    "def remove_nums(int_list):\n",
    "  position = 3 - 1 \n",
    "  idx = 0\n",
    "  len_list = (len(int_list))\n",
    "  while len_list>0:\n",
    "    idx = (position+idx)%len_list\n",
    "    print(int_list.pop(idx))\n",
    "    len_list -= 1\n",
    "nums = [10,20,30,40,50,60,70,80,90]\n",
    "remove_nums(nums)"
   ]
  },
  {
   "cell_type": "code",
   "execution_count": 8,
   "metadata": {},
   "outputs": [
    {
     "name": "stdout",
     "output_type": "stream",
     "text": [
      "6\n",
      "[4, 5, 6, 7, 8, 9]\n",
      "15\n",
      "[7, 8, 9]\n",
      "24\n",
      "[]\n",
      "--------------------\n"
     ]
    }
   ],
   "source": [
    "#Program07\n",
    "x=[1,2,3,4,5,6,7,8,9]\n",
    "while len(x)>0:\n",
    "    sum1=0\n",
    "    for i in x[:3]:\n",
    "        sum1 +=i\n",
    "        x.remove(i)   \n",
    "    print(sum1)    \n",
    "    print(x)\n",
    "print(\"-\"*20)"
   ]
  },
  {
   "cell_type": "code",
   "execution_count": 17,
   "metadata": {},
   "outputs": [
    {
     "name": "stdout",
     "output_type": "stream",
     "text": [
      "Enter first stringkhan\n",
      "Enter second stringwaqar\n",
      "Common characters are ::> a\n"
     ]
    }
   ],
   "source": [
    "#program08\n",
    "from collections import Counter \n",
    "def common(str1,str2): \n",
    "    d1 = Counter(str1) \n",
    "    d2 = Counter(str2) \n",
    "    cdict = d1 & d2 \n",
    "    if len(cdict) == 0: \n",
    "        print(-1)\n",
    "        return\n",
    "    cchars = list(cdict.elements()) \n",
    "    cchars = sorted(cchars) \n",
    "    print (\"Common characters are ::>\",''.join(cchars) )\n",
    "# Driver program \n",
    "if __name__ == \"__main__\": \n",
    "   s1 = input(\"Enter first string : \")\n",
    "   s2 = input(\"Enter second string : \")\n",
    "   common(s1, s2) "
   ]
  },
  {
   "cell_type": "code",
   "execution_count": 20,
   "metadata": {},
   "outputs": [
    {
     "name": "stdout",
     "output_type": "stream",
     "text": [
      "Enter first string:program\n",
      "Enter second string:python\n",
      "The common letters are:\n",
      "o\n",
      "p\n"
     ]
    }
   ],
   "source": [
    "s1=input(\"Enter first string:\")\n",
    "s2=input(\"Enter second string:\")\n",
    "a=list(set(s1)&set(s2))\n",
    "print(\"The common letters are:\")\n",
    "for i in a:\n",
    "    print(i)"
   ]
  },
  {
   "cell_type": "code",
   "execution_count": 39,
   "metadata": {},
   "outputs": [
    {
     "name": "stdout",
     "output_type": "stream",
     "text": [
      "['orange', 'kiwi', 'mellon']\n"
     ]
    }
   ],
   "source": [
    "#program 9\n",
    "mylist=['apple','banana','cherry','orange','kiwi','mellon','mango']\n",
    "print(mylist[-4:-1])"
   ]
  },
  {
   "cell_type": "code",
   "execution_count": 53,
   "metadata": {},
   "outputs": [
    {
     "name": "stdout",
     "output_type": "stream",
     "text": [
      "240\n",
      "[70, 80, 90]\n"
     ]
    }
   ],
   "source": [
    "#program 10\n",
    "nums = [10,20,30,40,50,60,70,80,90]\n",
    "print(sum(nums[-3:]))\n",
    "x=nums[-3:]\n",
    "nums1=x.copy()\n",
    "print(nums1)"
   ]
  },
  {
   "cell_type": "code",
   "execution_count": 54,
   "metadata": {},
   "outputs": [
    {
     "name": "stdout",
     "output_type": "stream",
     "text": [
      "Enter lower range limit:2000\n",
      "Enter upper range limit:3200\n",
      "Enter the number to be divided by:7\n",
      "2002\n",
      "2009\n",
      "2016\n",
      "2023\n",
      "2030\n",
      "2037\n",
      "2044\n",
      "2051\n",
      "2058\n",
      "2065\n",
      "2072\n",
      "2079\n",
      "2086\n",
      "2093\n",
      "2100\n",
      "2107\n",
      "2114\n",
      "2121\n",
      "2128\n",
      "2135\n",
      "2142\n",
      "2149\n",
      "2156\n",
      "2163\n",
      "2170\n",
      "2177\n",
      "2184\n",
      "2191\n",
      "2198\n",
      "2205\n",
      "2212\n",
      "2219\n",
      "2226\n",
      "2233\n",
      "2240\n",
      "2247\n",
      "2254\n",
      "2261\n",
      "2268\n",
      "2275\n",
      "2282\n",
      "2289\n",
      "2296\n",
      "2303\n",
      "2310\n",
      "2317\n",
      "2324\n",
      "2331\n",
      "2338\n",
      "2345\n",
      "2352\n",
      "2359\n",
      "2366\n",
      "2373\n",
      "2380\n",
      "2387\n",
      "2394\n",
      "2401\n",
      "2408\n",
      "2415\n",
      "2422\n",
      "2429\n",
      "2436\n",
      "2443\n",
      "2450\n",
      "2457\n",
      "2464\n",
      "2471\n",
      "2478\n",
      "2485\n",
      "2492\n",
      "2499\n",
      "2506\n",
      "2513\n",
      "2520\n",
      "2527\n",
      "2534\n",
      "2541\n",
      "2548\n",
      "2555\n",
      "2562\n",
      "2569\n",
      "2576\n",
      "2583\n",
      "2590\n",
      "2597\n",
      "2604\n",
      "2611\n",
      "2618\n",
      "2625\n",
      "2632\n",
      "2639\n",
      "2646\n",
      "2653\n",
      "2660\n",
      "2667\n",
      "2674\n",
      "2681\n",
      "2688\n",
      "2695\n",
      "2702\n",
      "2709\n",
      "2716\n",
      "2723\n",
      "2730\n",
      "2737\n",
      "2744\n",
      "2751\n",
      "2758\n",
      "2765\n",
      "2772\n",
      "2779\n",
      "2786\n",
      "2793\n",
      "2800\n",
      "2807\n",
      "2814\n",
      "2821\n",
      "2828\n",
      "2835\n",
      "2842\n",
      "2849\n",
      "2856\n",
      "2863\n",
      "2870\n",
      "2877\n",
      "2884\n",
      "2891\n",
      "2898\n",
      "2905\n",
      "2912\n",
      "2919\n",
      "2926\n",
      "2933\n",
      "2940\n",
      "2947\n",
      "2954\n",
      "2961\n",
      "2968\n",
      "2975\n",
      "2982\n",
      "2989\n",
      "2996\n",
      "3003\n",
      "3010\n",
      "3017\n",
      "3024\n",
      "3031\n",
      "3038\n",
      "3045\n",
      "3052\n",
      "3059\n",
      "3066\n",
      "3073\n",
      "3080\n",
      "3087\n",
      "3094\n",
      "3101\n",
      "3108\n",
      "3115\n",
      "3122\n",
      "3129\n",
      "3136\n",
      "3143\n",
      "3150\n",
      "3157\n",
      "3164\n",
      "3171\n",
      "3178\n",
      "3185\n",
      "3192\n",
      "3199\n"
     ]
    }
   ],
   "source": [
    "#program 11\n",
    "lower=int(input(\"Enter lower range limit:\"))\n",
    "upper=int(input(\"Enter upper range limit:\"))\n",
    "n=int(input(\"Enter the number to be divided by:\"))\n",
    "for i in range(lower,upper+1):\n",
    "    if(i%n==0):\n",
    "        print(i)"
   ]
  },
  {
   "cell_type": "code",
   "execution_count": 62,
   "metadata": {},
   "outputs": [
    {
     "name": "stdout",
     "output_type": "stream",
     "text": [
      "Input your password : Hassan2$9\n",
      "Valid Password\n"
     ]
    }
   ],
   "source": [
    "#Program 12\n",
    "import re\n",
    "p= input(\"Input your password : \")\n",
    "x = True\n",
    "while x:  \n",
    "    if (len(p)<6 or len(p)>12):\n",
    "        break\n",
    "    elif not re.search(\"[a-z]\",p):\n",
    "        break\n",
    "    elif not re.search(\"[0-9]\",p):\n",
    "        break\n",
    "    elif not re.search(\"[A-Z]\",p):\n",
    "        break\n",
    "    elif not re.search(\"[$#@]\",p):\n",
    "        break\n",
    "    elif re.search(\"\\s\",p):\n",
    "        break\n",
    "    else:\n",
    "        print(\"Valid Password\")\n",
    "        x=False\n",
    "        break\n",
    "\n",
    "if x:\n",
    "    print(\"Not a Valid Password  \" )"
   ]
  },
  {
   "cell_type": "code",
   "execution_count": 88,
   "metadata": {},
   "outputs": [
    {
     "name": "stdout",
     "output_type": "stream",
     "text": [
      "Count of all characters in HASSAN is :\n",
      " {'H': 1, 'A': 2, 'S': 2, 'N': 1}\n"
     ]
    }
   ],
   "source": [
    "#program 13\n",
    "test_str = \"HASSAN\"\n",
    "all_freq={}\n",
    "for i in test_str: \n",
    "    if i in all_freq: \n",
    "        all_freq[i] += 1\n",
    "    else: \n",
    "        all_freq[i] = 1\n",
    "print (\"Count of all characters in HASSAN is :\\n \"+  str(all_freq))        "
   ]
  },
  {
   "cell_type": "code",
   "execution_count": 92,
   "metadata": {},
   "outputs": [
    {
     "name": "stdout",
     "output_type": "stream",
     "text": [
      "Enter any side of a Square: 4\n",
      "The Square volume of a square 64cm³\n"
     ]
    }
   ],
   "source": [
    "#program 14\n",
    "A=int(input(\"Enter any side of a Square: \"))\n",
    "square_volume=A*A*A\n",
    "print(\"The Square volume of a square {}cm\\u00b3\".format(square_volume))"
   ]
  },
  {
   "cell_type": "code",
   "execution_count": 105,
   "metadata": {},
   "outputs": [
    {
     "name": "stdout",
     "output_type": "stream",
     "text": [
      "Number of software engineering is list1 is: 2\n",
      "Number of electronic students in list1 is : 1\n"
     ]
    }
   ],
   "source": [
    "#program 15\n",
    "#list me roll no add kro 20 tk lakin b or se ya cs ya ee sb small me lekhna taky shi se \n",
    "#kam kre or phr ye comment remove kr dena\n",
    "# se ki jagah cs krdo baki soft_eng ko hta k sb jagah computer science kr dena print me b baki hu jaega \n",
    "\n",
    "list1=[\"19b-116-se\",\"19b-115-se\",\"19b-114-ee\"]\n",
    "soft_eng=0\n",
    "electronic=0\n",
    "for num in list1:\n",
    "    x=num\n",
    "    if x[8:]=='se':\n",
    "        soft_eng+=1\n",
    "    elif x[8:]==\"ee\":\n",
    "        electronic+=1\n",
    "print(\"Number of software engineering is list1 is:\",soft_eng)     \n",
    "print(\"Number of electronic students in list1 is :\",electronic)"
   ]
  }
 ],
 "metadata": {
  "kernelspec": {
   "display_name": "Python 3",
   "language": "python",
   "name": "python3"
  },
  "language_info": {
   "codemirror_mode": {
    "name": "ipython",
    "version": 3
   },
   "file_extension": ".py",
   "mimetype": "text/x-python",
   "name": "python",
   "nbconvert_exporter": "python",
   "pygments_lexer": "ipython3",
   "version": "3.7.3"
  }
 },
 "nbformat": 4,
 "nbformat_minor": 2
}
